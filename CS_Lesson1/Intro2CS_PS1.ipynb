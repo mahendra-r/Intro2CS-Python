{
 "cells": [
  {
   "cell_type": "code",
   "execution_count": 1,
   "metadata": {
    "collapsed": true
   },
   "outputs": [],
   "source": [
    "s = \"CidatyUcityda\""
   ]
  },
  {
   "cell_type": "code",
   "execution_count": 7,
   "metadata": {
    "collapsed": false
   },
   "outputs": [
    {
     "data": {
      "text/plain": [
       "'UdaCity'"
      ]
     },
     "execution_count": 7,
     "metadata": {},
     "output_type": "execute_result"
    }
   ],
   "source": [
    "s[6]+s[-2]+s[3]+s[:2]+s[4:6]"
   ]
  },
  {
   "cell_type": "code",
   "execution_count": 15,
   "metadata": {
    "collapsed": false
   },
   "outputs": [
    {
     "name": "stdout",
     "output_type": "stream",
     "text": [
      "The eruption of the volcano Eyjafjallajokull in 2010 disrupted air travel in Europe for 6 days.\n"
     ]
    }
   ],
   "source": [
    "###############################################\n",
    "#       Exercise by Websten from forums       #\n",
    "###############################################\n",
    "# To minimize errors when writing long texts with\n",
    "# complicated expressions you could replace \n",
    "# the tricky parts with a marker. \n",
    "# Write a program that takes a line of text and \n",
    "# finds the first occurrence of a certain marker \n",
    "# and replaces it with a replacement text. \n",
    "# The resulting line of text should be stored in a variable. \n",
    "# All input data will be given as variables.\n",
    "#\n",
    "# Replace the first occurrence of marker in the line below.\n",
    "# There will be at least one occurrence of the marker in the\n",
    "# line of text. Put the answer in the variable 'replaced'.\n",
    "# Hint: You can find out the length of a string by command\n",
    "# len(string). We might test your code with different markers!\n",
    "\n",
    "# Example 1\n",
    "marker = \"AFK\"\n",
    "replacement = \"away from keyboard\"\n",
    "line = \"I will now go to sleep and be AFK until lunch time tomorrow.\"\n",
    "\n",
    "# Example 2 # uncomment this to test with different input\n",
    "marker = \"EY\"\n",
    "replacement = \"Eyjafjallajokull\"\n",
    "line = \"The eruption of the volcano EY in 2010 disrupted air travel in Europe for 6 days.\"\n",
    "\n",
    "###\n",
    "# YOUR CODE BELOW. DO NOT DELETE THIS LINE\n",
    "###\n",
    "\n",
    "\n",
    "location = line.find(marker)\n",
    "\n",
    "replaced = line[:location]+replacement+line[location+len(marker):]\n",
    "\n",
    "print(replaced)\n",
    "\n",
    "# Example 1 output should be:\n",
    "#>>> I will now go to sleep and be away from keyboard until lunch time tomorrow.\n",
    "# Example 2 output should be:\n",
    "#>>> The eruption of the volcano Eyjafjallajokull in 2010 disrupted air travel in Europe for 6 days."
   ]
  },
  {
   "cell_type": "code",
   "execution_count": null,
   "metadata": {
    "collapsed": true
   },
   "outputs": [],
   "source": [
    "###############################################\n",
    "#       Exercise by Websten from forums       #\n",
    "###############################################\n",
    "# A palindrome is a word or a phrase that reads \n",
    "# the same backwards as forwards. Make a program \n",
    "# that checks if a word is a palindrome. \n",
    "# If the word is a palindrome, print 0 to the terminal,\n",
    "# -1 otherwise. \n",
    "# The word contains lowercase letters a-z and \n",
    "# will be at least one character long.\n",
    "#\n",
    "### HINT! ###\n",
    "# You can read a string backwards with the following syntax:\n",
    "# string[::-1] - where the \"-1\" means one step back.\n",
    "# This exercise can be solved with only unit 1 knowledge\n",
    "# (no loops or conditions)\n",
    "\n",
    "word = \"madam\"\n",
    "# test case 2\n",
    "# word = \"madman\" # uncomment this to test\n",
    "\n",
    "###\n",
    "# YOUR CODE HERE. DO NOT DELETE THIS LINE OR ADD A word DEFINITION BELOW IT.\n",
    "###\n",
    "\n",
    "is_palindrome =\n",
    "\n",
    "# TESTING\n",
    "print is_palindrome\n",
    "# >>> 0  # outcome if word == \"madam\"\n",
    "# >>> -1 # outcome if word == \"madman\""
   ]
  }
 ],
 "metadata": {
  "kernelspec": {
   "display_name": "Python 3",
   "language": "python",
   "name": "python3"
  },
  "language_info": {
   "codemirror_mode": {
    "name": "ipython",
    "version": 3
   },
   "file_extension": ".py",
   "mimetype": "text/x-python",
   "name": "python",
   "nbconvert_exporter": "python",
   "pygments_lexer": "ipython3",
   "version": "3.4.3"
  }
 },
 "nbformat": 4,
 "nbformat_minor": 0
}
